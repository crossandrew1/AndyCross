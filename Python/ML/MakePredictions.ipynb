{
 "cells": [
  {
   "cell_type": "code",
   "execution_count": 8,
   "metadata": {},
   "outputs": [
    {
     "name": "stdout",
     "output_type": "stream",
     "text": [
      "/Users/andrewcross/Desktop/model/sedful\n",
      "('loaded weights ', '/Users/andrewcross/Desktop/MHFDDrone Data/Erosion_Psp100/Models/Pspnet101_Erosion_bs2_spe_37_lr0.0001/Models/ero41/erosion.41')\n"
     ]
    }
   ],
   "source": [
    "from keras_segmentation.predict import model_from_checkpoint_path\n",
    "from keras_segmentation.predict import predict\n",
    "\n",
    "\n",
    "model = model_from_checkpoint_path(\"/Users/andrewcross/Desktop/MHFDDrone Data/Erosion_Psp100/Models/Pspnet101_Erosion_bs2_spe_37_lr0.0001/Models/ero41/erosion\")"
   ]
  },
  {
   "cell_type": "code",
   "execution_count": 88,
   "metadata": {},
   "outputs": [
    {
     "name": "stdout",
     "output_type": "stream",
     "text": [
      "3402\n",
      "3967\n",
      "4032\n",
      "4312\n",
      "3481\n",
      "3950\n",
      "4978\n",
      "3579\n",
      "3002\n",
      "3343\n",
      "3250\n",
      "3773\n",
      "5474\n"
     ]
    }
   ],
   "source": [
    "import cv2\n",
    "import numpy as np \n",
    "import pysrt as ps\n",
    "\n",
    "vidcap = cv2.VideoCapture('/Users/andrewcross/Desktop/DroneFlight_20201901/SpringGulch/DJI_0178.MOV')\n",
    "dat=ps.open(\"/Users/andrewcross/Desktop/DroneFlight_20201901/SpringGulch/DJI_0178.SRT\")\n",
    "success,image = vidcap.read()\n",
    "count = 0\n",
    "lat_array=[]\n",
    "long_array=[]\n",
    "location=[]\n",
    "while success:\n",
    "    success,image = vidcap.read()\n",
    "    if count % 30 == 0:\n",
    "        pr,vals,counts=predict(model=model, inp = image,out_fname=\"/Users/andrewcross/Desktop/MHFDDrone Data/Erosion_Psp100/Models/Pspnet101_Erosion_bs2_spe_37_lr0.0001/Models/ero41/bdc2/\"+str(count)+\".png\", overlay_img=True)\n",
    "        if len(vals) > 1:\n",
    "            for i in range(0,len(vals)):\n",
    "                \n",
    "                if vals[i] == 1 and counts[i] > 2500:\n",
    "                    print(counts[i])\n",
    "                    ls=str(unicode(dat[count]))\n",
    "                    lat_ind=ls.index(\"latitude\")\n",
    "                    lon_ind=ls.index(\"longitude\")\n",
    "                    lat=ls[int(lat_ind)+10:int(lat_ind)+19]\n",
    "                    lon=ls[int(lon_ind)+11:int(lon_ind)+22]\n",
    "                    lat_array.append(lat)\n",
    "                    long_array.append(lon)\n",
    "                    cv2.imwrite(\"/Users/andrewcross/Desktop/MHFDDrone Data/Erosion_Psp100/Models/Pspnet101_Erosion_bs2_spe_37_lr0.0001/Models/ero41/bdc2/\"+str(count)+\"_\"+str(lat)+\"_\"+str(lon)+\".jpg\",image)\n",
    "    \n",
    "    count += 1\n",
    "             "
   ]
  },
  {
   "cell_type": "code",
   "execution_count": 80,
   "metadata": {},
   "outputs": [
    {
     "name": "stdout",
     "output_type": "stream",
     "text": [
      "(34, 2)\n"
     ]
    }
   ],
   "source": [
    "import numpy as np\n",
    "latlong=np.column_stack((np.array(lat_array),np.array(long_array)))\n",
    "print(np.shape(latlong))\n",
    "np.savetxt(\"/Users/andrewcross/Desktop/MHFDDrone Data/Erosion_Psp100/Models/Pspnet101_Erosion_bs2_spe_37_lr0.0001/Models/ero41/pred/latlong.csv\",latlong,fmt='%s')"
   ]
  },
  {
   "cell_type": "code",
   "execution_count": 43,
   "metadata": {},
   "outputs": [
    {
     "name": "stdout",
     "output_type": "stream",
     "text": [
      "2\n",
      "00:00:00,033 --> 00:00:00,066\n",
      "<font size=\"36\">SrtCnt : 2, DiffTime : 33ms\n",
      "2021-01-19 12:32:44,804,497\n",
      "[iso : 100] [shutter : 1/500.0] [fnum : 280] [ev : 0] [ct : 5205] [color_md : default] [focal_len : 240] [latitude: 39.530907] [longitude: -104.909527] [altitude: 10.800000] </font>\n",
      "\n",
      "('latitude: 39.530901', 'longitude: -104.909519')\n"
     ]
    }
   ],
   "source": []
  }
 ],
 "metadata": {
  "kernelspec": {
   "display_name": "Python 3",
   "language": "python",
   "name": "python3"
  },
  "language_info": {
   "codemirror_mode": {
    "name": "ipython",
    "version": 3
   },
   "file_extension": ".py",
   "mimetype": "text/x-python",
   "name": "python",
   "nbconvert_exporter": "python",
   "pygments_lexer": "ipython3",
   "version": "3.8.5"
  }
 },
 "nbformat": 4,
 "nbformat_minor": 2
}
