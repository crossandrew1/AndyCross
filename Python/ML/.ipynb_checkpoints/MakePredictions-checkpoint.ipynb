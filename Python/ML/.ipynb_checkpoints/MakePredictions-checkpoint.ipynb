{
 "cells": [
  {
   "cell_type": "code",
   "execution_count": 1,
   "metadata": {},
   "outputs": [
    {
     "name": "stderr",
     "output_type": "stream",
     "text": [
      "Using TensorFlow backend.\n"
     ]
    },
    {
     "name": "stdout",
     "output_type": "stream",
     "text": [
      "WARNING:tensorflow:From /Users/andrewcross/anaconda3/envs/keras_seg/lib/python2.7/site-packages/keras/backend/tensorflow_backend.py:74: The name tf.get_default_graph is deprecated. Please use tf.compat.v1.get_default_graph instead.\n",
      "\n",
      "WARNING:tensorflow:From /Users/andrewcross/anaconda3/envs/keras_seg/lib/python2.7/site-packages/keras/backend/tensorflow_backend.py:517: The name tf.placeholder is deprecated. Please use tf.compat.v1.placeholder instead.\n",
      "\n",
      "WARNING:tensorflow:From /Users/andrewcross/anaconda3/envs/keras_seg/lib/python2.7/site-packages/keras/backend/tensorflow_backend.py:4138: The name tf.random_uniform is deprecated. Please use tf.random.uniform instead.\n",
      "\n",
      "WARNING:tensorflow:From /Users/andrewcross/anaconda3/envs/keras_seg/lib/python2.7/site-packages/keras/backend/tensorflow_backend.py:174: The name tf.get_default_session is deprecated. Please use tf.compat.v1.get_default_session instead.\n",
      "\n",
      "WARNING:tensorflow:From /Users/andrewcross/anaconda3/envs/keras_seg/lib/python2.7/site-packages/keras/backend/tensorflow_backend.py:181: The name tf.ConfigProto is deprecated. Please use tf.compat.v1.ConfigProto instead.\n",
      "\n",
      "WARNING:tensorflow:From /Users/andrewcross/anaconda3/envs/keras_seg/lib/python2.7/site-packages/keras/backend/tensorflow_backend.py:1834: The name tf.nn.fused_batch_norm is deprecated. Please use tf.compat.v1.nn.fused_batch_norm instead.\n",
      "\n",
      "WARNING:tensorflow:From /Users/andrewcross/anaconda3/envs/keras_seg/lib/python2.7/site-packages/keras/backend/tensorflow_backend.py:3976: The name tf.nn.max_pool is deprecated. Please use tf.nn.max_pool2d instead.\n",
      "\n",
      "WARNING:tensorflow:From /Users/andrewcross/anaconda3/envs/keras_seg/lib/python2.7/site-packages/keras/backend/tensorflow_backend.py:3980: The name tf.nn.avg_pool is deprecated. Please use tf.nn.avg_pool2d instead.\n",
      "\n",
      "WARNING:tensorflow:From /Users/andrewcross/anaconda3/envs/keras_seg/lib/python2.7/site-packages/keras/backend/tensorflow_backend.py:3445: calling dropout (from tensorflow.python.ops.nn_ops) with keep_prob is deprecated and will be removed in a future version.\n",
      "Instructions for updating:\n",
      "Please use `rate` instead of `keep_prob`. Rate should be set to `rate = 1 - keep_prob`.\n",
      "('loaded weights ', '/Users/andrewcross/Desktop/MHFDDrone Data/EroPsp100_20210503/ero/pred/erosion_20210405.17')\n"
     ]
    }
   ],
   "source": [
    "from keras_segmentation.predict import model_from_checkpoint_path\n",
    "from keras_segmentation.predict import predict\n",
    "\n",
    "\n",
    "model = model_from_checkpoint_path(\"/Users/andrewcross/Desktop/MHFDDrone Data/EroPsp100_20210503/ero/pred/erosion_20210405\")"
   ]
  },
  {
   "cell_type": "code",
   "execution_count": 2,
   "metadata": {},
   "outputs": [
    {
     "name": "stdout",
     "output_type": "stream",
     "text": [
      "3042\n",
      "3130\n",
      "3530\n",
      "3352\n",
      "3477\n",
      "4444\n",
      "4596\n",
      "4356\n",
      "4314\n",
      "3721\n",
      "3146\n",
      "3591\n",
      "2750\n",
      "2746\n",
      "2699\n",
      "3537\n",
      "3464\n",
      "5104\n",
      "9850\n",
      "11953\n",
      "11238\n",
      "13882\n",
      "14221\n",
      "17290\n",
      "18957\n",
      "19407\n",
      "18403\n",
      "20575\n",
      "21667\n",
      "20197\n",
      "19293\n",
      "22319\n",
      "27163\n",
      "30257\n",
      "33642\n",
      "38617\n",
      "43763\n",
      "45715\n",
      "43666\n",
      "43389\n",
      "42130\n",
      "41432\n",
      "45783\n",
      "26615\n",
      "7273\n",
      "8462\n",
      "6671\n",
      "5182\n",
      "5094\n",
      "5939\n",
      "5424\n",
      "2860\n"
     ]
    }
   ],
   "source": [
    "import cv2\n",
    "import numpy as np \n",
    "import pysrt as ps\n",
    "\n",
    "vidcap = cv2.VideoCapture('/Volumes/Internal SSD/DroneFlight_20210329_BDC/DJI_0017.MOV')\n",
    "dat=ps.open(\"/Volumes/Internal SSD/DroneFlight_20210329_BDC/DJI_0017.SRT\")\n",
    "success,image = vidcap.read()\n",
    "count = 0\n",
    "lat_array=[]\n",
    "long_array=[]\n",
    "location=[]\n",
    "while success:\n",
    "    success,image = vidcap.read()\n",
    "    if count % 30 == 0:\n",
    "        pr,vals,counts=predict(model=model, inp = image,out_fname=\"/Users/andrewcross/Desktop/bfb/\"+str(count)+\".png\", overlay_img=True)\n",
    "        if len(vals) > 1:\n",
    "            for i in range(0,len(vals)):\n",
    "                \n",
    "                if vals[i] == 1 and counts[i] > 2500:\n",
    "                    print(counts[i])\n",
    "                    ls=str(unicode(dat[count]))\n",
    "                    lat_ind=ls.index(\"latitude\")\n",
    "                    lon_ind=ls.index(\"longitude\")\n",
    "                    lat=ls[int(lat_ind)+10:int(lat_ind)+19]\n",
    "                    lon=ls[int(lon_ind)+11:int(lon_ind)+22]\n",
    "                    lat_array.append(lat)\n",
    "                    long_array.append(lon)\n",
    "                    cv2.imwrite(\"/Users/andrewcross/Desktop/bfb/\"+str(count)+\"_\"+str(lat)+\"_\"+str(lon)+\".jpg\",image)\n",
    "    \n",
    "    count += 1\n",
    "             "
   ]
  },
  {
   "cell_type": "code",
   "execution_count": 80,
   "metadata": {},
   "outputs": [
    {
     "name": "stdout",
     "output_type": "stream",
     "text": [
      "(34, 2)\n"
     ]
    }
   ],
   "source": [
    "import numpy as np\n",
    "latlong=np.column_stack((np.array(lat_array),np.array(long_array)))\n",
    "print(np.shape(latlong))\n",
    "np.savetxt(\"/Users/andrewcross/Desktop/MHFDDrone Data/Erosion_Psp100/Models/Pspnet101_Erosion_bs2_spe_37_lr0.0001/Models/ero41/pred/latlong.csv\",latlong,fmt='%s')"
   ]
  },
  {
   "cell_type": "code",
   "execution_count": 43,
   "metadata": {},
   "outputs": [
    {
     "name": "stdout",
     "output_type": "stream",
     "text": [
      "2\n",
      "00:00:00,033 --> 00:00:00,066\n",
      "<font size=\"36\">SrtCnt : 2, DiffTime : 33ms\n",
      "2021-01-19 12:32:44,804,497\n",
      "[iso : 100] [shutter : 1/500.0] [fnum : 280] [ev : 0] [ct : 5205] [color_md : default] [focal_len : 240] [latitude: 39.530907] [longitude: -104.909527] [altitude: 10.800000] </font>\n",
      "\n",
      "('latitude: 39.530901', 'longitude: -104.909519')\n"
     ]
    }
   ],
   "source": []
  }
 ],
 "metadata": {
  "kernelspec": {
   "display_name": "Python 3",
   "language": "python",
   "name": "python3"
  },
  "language_info": {
   "codemirror_mode": {
    "name": "ipython",
    "version": 3
   },
   "file_extension": ".py",
   "mimetype": "text/x-python",
   "name": "python",
   "nbconvert_exporter": "python",
   "pygments_lexer": "ipython3",
   "version": "3.8.5"
  }
 },
 "nbformat": 4,
 "nbformat_minor": 2
}
