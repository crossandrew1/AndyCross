{
 "cells": [
  {
   "cell_type": "code",
   "execution_count": null,
   "metadata": {},
   "outputs": [],
   "source": [
    "import os\n",
    "import re\n",
    "import arcpy\n",
    "import shutil\n",
    "from os import path\n",
    "from arcpy import management\n",
    "\n",
    "source_tif = 'C:/Users/Andy.Cross/Documents/pix4d/trt/3_dsm_ortho/2_mosaic/trt_transparent_mosaic_group1.tif'\n",
    "target_folder = 'C:/Users/Andy.Cross/Documents/pix4d/trt/3_dsm_ortho/2_mosaic/edited'\n",
    "\n",
    "def transferRasterSpatialInfo():\n",
    "    \"\"\"Transfer spatial reference information from a a source raster to a set of\n",
    "    other rasters that have the same spatial reference values, but for which that\n",
    "    information is not defined\"\"\"\n",
    "\n",
    "    # create world file from source raster\n",
    "    management.ExportRasterWorldFile(source_tif)\n",
    "    src_world_file = re.sub('\\.tif$', '.tfw', source_tif)\n",
    "\n",
    "    # get source raster projection\n",
    "    src_tiff_srs = arcpy.Describe(source_tif).spatialReference\n",
    "\n",
    "    for tiff in os.listdir(target_folder):\n",
    "        if re.match('.+\\.tif$', tiff):\n",
    "            # rename and copy world file to target tiffs\n",
    "            world_file_name = re.sub('\\.tif$', '.tfw', tiff)\n",
    "            new_world_file = path.join(target_folder, world_file_name)\n",
    "            shutil.copy(src_world_file, new_world_file)\n",
    "\n",
    "\n",
    "            # define projection for target tiffs\n",
    "            tiff_path = path.join(target_folder, tiff)\n",
    "            management.DefineProjection(tiff_path, src_tiff_srs)\n",
    "\n",
    "transferRasterSpatialInfo()\n",
    "\"\"\"\n",
    "from arcpy.sa import *\n",
    "out=Combine(\"trt_transparent_mosaic_group1.tif\")\n",
    "arcpy.RasterToPolygon_conversion(\"out\", \"classified_zones.shp\", \"NO_SIMPLIFY\",\"VALUE\")\n",
    "\"\"\""
   ]
  }
 ],
 "metadata": {
  "kernelspec": {
   "display_name": "Python 3",
   "language": "python",
   "name": "python3"
  },
  "language_info": {
   "codemirror_mode": {
    "name": "ipython",
    "version": 3
   },
   "file_extension": ".py",
   "mimetype": "text/x-python",
   "name": "python",
   "nbconvert_exporter": "python",
   "pygments_lexer": "ipython3",
   "version": "3.8.5"
  }
 },
 "nbformat": 4,
 "nbformat_minor": 4
}
